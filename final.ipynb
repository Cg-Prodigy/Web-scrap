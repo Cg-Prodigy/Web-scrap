{
 "cells": [
  {
   "cell_type": "code",
   "execution_count": 1,
   "metadata": {},
   "outputs": [],
   "source": [
    "from bs4 import BeautifulSoup\n",
    "from selenium import webdriver\n",
    "from selenium.webdriver.chrome.options import Options\n",
    "# from selenium.common.exceptions import NoSuchElementException,TimeoutException\n",
    "from selenium.webdriver.common.by import By\n",
    "from selenium.webdriver.support.ui import WebDriverWait\n",
    "from selenium.webdriver.support import expected_conditions as EC\n",
    "import os\n"
   ]
  },
  {
   "cell_type": "code",
   "execution_count": 2,
   "metadata": {},
   "outputs": [
    {
     "name": "stdout",
     "output_type": "stream",
     "text": [
      "HTML loaded\n"
     ]
    }
   ],
   "source": [
    "url = \"https://sps.mesago.com/nuernberg/en/exhibitor-search.html\"\n",
    "if os.stat(\"all_files.html\").st_size==0:\n",
    "    chrome_driver=webdriver.Chrome()\n",
    "    chrome_driver.maximize_window()\n",
    "    chrome_driver.get(url)\n",
    "    while True:\n",
    "        chrome_driver.execute_script(\"window.scrollTo(0,document.body.scrollHeight);\")\n",
    "        try:\n",
    "            element_present=EC.presence_of_element_located((By.CSS_SELECTOR,\".a-cubespinner.a-cubespinner--medium.center-block\"))\n",
    "            WebDriverWait(chrome_driver,10).until(element_present)\n",
    "        except Exception as e:\n",
    "            print(f\"{e} aniticipated and handled\")\n",
    "            break\n",
    "    with open(\"all_files.html\",\"w\") as file:\n",
    "        root=BeautifulSoup(chrome_driver.page_source)\n",
    "        all_hrefs=root.find_all(\"a\",class_=\"a-link--no-focus\")\n",
    "        for each in all_hrefs:\n",
    "            file.write(each[\"href\"]+\"\\n\")\n",
    "else:\n",
    "    print(\"HTML loaded\")"
   ]
  },
  {
   "cell_type": "code",
   "execution_count": 3,
   "metadata": {},
   "outputs": [
    {
     "name": "stdout",
     "output_type": "stream",
     "text": [
      "1\n",
      "2\n",
      "3\n",
      "4\n",
      "5\n",
      "6\n",
      "7\n",
      "8\n",
      "9\n",
      "10\n",
      "11\n",
      "12\n",
      "13\n",
      "14\n",
      "15\n",
      "16\n",
      "17\n",
      "18\n",
      "19\n",
      "20\n",
      "21\n",
      "22\n",
      "23\n",
      "24\n",
      "25\n"
     ]
    },
    {
     "ename": "NoSuchWindowException",
     "evalue": "Message: no such window: target window already closed\nfrom unknown error: web view not found\n  (Session info: chrome=110.0.5481.177)\nStacktrace:\n#0 0x55e1852bbd93 <unknown>\n#1 0x55e18508a2d7 <unknown>\n#2 0x55e185065655 <unknown>\n#3 0x55e1850ef4ff <unknown>\n#4 0x55e185102066 <unknown>\n#5 0x55e1850ea353 <unknown>\n#6 0x55e1850b9e40 <unknown>\n#7 0x55e1850bb038 <unknown>\n#8 0x55e18530f8be <unknown>\n#9 0x55e1853138f0 <unknown>\n#10 0x55e1852f3f90 <unknown>\n#11 0x55e185314b7d <unknown>\n#12 0x55e1852e5578 <unknown>\n#13 0x55e185339348 <unknown>\n#14 0x55e1853394d6 <unknown>\n#15 0x55e185353341 <unknown>\n#16 0x7f017a494b43 <unknown>\n",
     "output_type": "error",
     "traceback": [
      "\u001b[0;31m---------------------------------------------------------------------------\u001b[0m",
      "\u001b[0;31mNoSuchWindowException\u001b[0m                     Traceback (most recent call last)",
      "Cell \u001b[0;32mIn[3], line 15\u001b[0m\n\u001b[1;32m     13\u001b[0m full_url\u001b[39m=\u001b[39m\u001b[39m\"\u001b[39m\u001b[39mhttps://sps.mesago.com\u001b[39m\u001b[39m\"\u001b[39m\u001b[39m+\u001b[39meach\n\u001b[1;32m     14\u001b[0m new_driver\u001b[39m.\u001b[39mget(full_url)\n\u001b[0;32m---> 15\u001b[0m element_present\u001b[39m=\u001b[39mwait\u001b[39m.\u001b[39;49muntil(EC\u001b[39m.\u001b[39;49mpresence_of_element_located((By\u001b[39m.\u001b[39;49mCLASS_NAME,\u001b[39m\"\u001b[39;49m\u001b[39mex-contact-box__flex\u001b[39;49m\u001b[39m\"\u001b[39;49m)))\n\u001b[1;32m     16\u001b[0m new_driver\u001b[39m.\u001b[39mexecute_script(\u001b[39m\"\u001b[39m\u001b[39mreturn window.stop();\u001b[39m\u001b[39m\"\u001b[39m)\n\u001b[1;32m     17\u001b[0m root_two\u001b[39m=\u001b[39mBeautifulSoup(new_driver\u001b[39m.\u001b[39mpage_source,\u001b[39m\"\u001b[39m\u001b[39mhtml.parser\u001b[39m\u001b[39m\"\u001b[39m)\n",
      "File \u001b[0;32m/media/ego/Academia/Work/Python/Azhar/web_s/lib/python3.10/site-packages/selenium/webdriver/support/wait.py:86\u001b[0m, in \u001b[0;36mWebDriverWait.until\u001b[0;34m(self, method, message)\u001b[0m\n\u001b[1;32m     84\u001b[0m \u001b[39mwhile\u001b[39;00m \u001b[39mTrue\u001b[39;00m:\n\u001b[1;32m     85\u001b[0m     \u001b[39mtry\u001b[39;00m:\n\u001b[0;32m---> 86\u001b[0m         value \u001b[39m=\u001b[39m method(\u001b[39mself\u001b[39;49m\u001b[39m.\u001b[39;49m_driver)\n\u001b[1;32m     87\u001b[0m         \u001b[39mif\u001b[39;00m value:\n\u001b[1;32m     88\u001b[0m             \u001b[39mreturn\u001b[39;00m value\n",
      "File \u001b[0;32m/media/ego/Academia/Work/Python/Azhar/web_s/lib/python3.10/site-packages/selenium/webdriver/support/expected_conditions.py:69\u001b[0m, in \u001b[0;36mpresence_of_element_located.<locals>._predicate\u001b[0;34m(driver)\u001b[0m\n\u001b[1;32m     68\u001b[0m \u001b[39mdef\u001b[39;00m \u001b[39m_predicate\u001b[39m(driver):\n\u001b[0;32m---> 69\u001b[0m     \u001b[39mreturn\u001b[39;00m driver\u001b[39m.\u001b[39;49mfind_element(\u001b[39m*\u001b[39;49mlocator)\n",
      "File \u001b[0;32m/media/ego/Academia/Work/Python/Azhar/web_s/lib/python3.10/site-packages/selenium/webdriver/remote/webdriver.py:830\u001b[0m, in \u001b[0;36mWebDriver.find_element\u001b[0;34m(self, by, value)\u001b[0m\n\u001b[1;32m    827\u001b[0m     by \u001b[39m=\u001b[39m By\u001b[39m.\u001b[39mCSS_SELECTOR\n\u001b[1;32m    828\u001b[0m     value \u001b[39m=\u001b[39m \u001b[39mf\u001b[39m\u001b[39m'\u001b[39m\u001b[39m[name=\u001b[39m\u001b[39m\"\u001b[39m\u001b[39m{\u001b[39;00mvalue\u001b[39m}\u001b[39;00m\u001b[39m\"\u001b[39m\u001b[39m]\u001b[39m\u001b[39m'\u001b[39m\n\u001b[0;32m--> 830\u001b[0m \u001b[39mreturn\u001b[39;00m \u001b[39mself\u001b[39;49m\u001b[39m.\u001b[39;49mexecute(Command\u001b[39m.\u001b[39;49mFIND_ELEMENT, {\u001b[39m\"\u001b[39;49m\u001b[39musing\u001b[39;49m\u001b[39m\"\u001b[39;49m: by, \u001b[39m\"\u001b[39;49m\u001b[39mvalue\u001b[39;49m\u001b[39m\"\u001b[39;49m: value})[\u001b[39m\"\u001b[39m\u001b[39mvalue\u001b[39m\u001b[39m\"\u001b[39m]\n",
      "File \u001b[0;32m/media/ego/Academia/Work/Python/Azhar/web_s/lib/python3.10/site-packages/selenium/webdriver/remote/webdriver.py:440\u001b[0m, in \u001b[0;36mWebDriver.execute\u001b[0;34m(self, driver_command, params)\u001b[0m\n\u001b[1;32m    438\u001b[0m response \u001b[39m=\u001b[39m \u001b[39mself\u001b[39m\u001b[39m.\u001b[39mcommand_executor\u001b[39m.\u001b[39mexecute(driver_command, params)\n\u001b[1;32m    439\u001b[0m \u001b[39mif\u001b[39;00m response:\n\u001b[0;32m--> 440\u001b[0m     \u001b[39mself\u001b[39;49m\u001b[39m.\u001b[39;49merror_handler\u001b[39m.\u001b[39;49mcheck_response(response)\n\u001b[1;32m    441\u001b[0m     response[\u001b[39m\"\u001b[39m\u001b[39mvalue\u001b[39m\u001b[39m\"\u001b[39m] \u001b[39m=\u001b[39m \u001b[39mself\u001b[39m\u001b[39m.\u001b[39m_unwrap_value(response\u001b[39m.\u001b[39mget(\u001b[39m\"\u001b[39m\u001b[39mvalue\u001b[39m\u001b[39m\"\u001b[39m, \u001b[39mNone\u001b[39;00m))\n\u001b[1;32m    442\u001b[0m     \u001b[39mreturn\u001b[39;00m response\n",
      "File \u001b[0;32m/media/ego/Academia/Work/Python/Azhar/web_s/lib/python3.10/site-packages/selenium/webdriver/remote/errorhandler.py:245\u001b[0m, in \u001b[0;36mErrorHandler.check_response\u001b[0;34m(self, response)\u001b[0m\n\u001b[1;32m    243\u001b[0m         alert_text \u001b[39m=\u001b[39m value[\u001b[39m\"\u001b[39m\u001b[39malert\u001b[39m\u001b[39m\"\u001b[39m]\u001b[39m.\u001b[39mget(\u001b[39m\"\u001b[39m\u001b[39mtext\u001b[39m\u001b[39m\"\u001b[39m)\n\u001b[1;32m    244\u001b[0m     \u001b[39mraise\u001b[39;00m exception_class(message, screen, stacktrace, alert_text)  \u001b[39m# type: ignore[call-arg]  # mypy is not smart enough here\u001b[39;00m\n\u001b[0;32m--> 245\u001b[0m \u001b[39mraise\u001b[39;00m exception_class(message, screen, stacktrace)\n",
      "\u001b[0;31mNoSuchWindowException\u001b[0m: Message: no such window: target window already closed\nfrom unknown error: web view not found\n  (Session info: chrome=110.0.5481.177)\nStacktrace:\n#0 0x55e1852bbd93 <unknown>\n#1 0x55e18508a2d7 <unknown>\n#2 0x55e185065655 <unknown>\n#3 0x55e1850ef4ff <unknown>\n#4 0x55e185102066 <unknown>\n#5 0x55e1850ea353 <unknown>\n#6 0x55e1850b9e40 <unknown>\n#7 0x55e1850bb038 <unknown>\n#8 0x55e18530f8be <unknown>\n#9 0x55e1853138f0 <unknown>\n#10 0x55e1852f3f90 <unknown>\n#11 0x55e185314b7d <unknown>\n#12 0x55e1852e5578 <unknown>\n#13 0x55e185339348 <unknown>\n#14 0x55e1853394d6 <unknown>\n#15 0x55e185353341 <unknown>\n#16 0x7f017a494b43 <unknown>\n"
     ]
    }
   ],
   "source": [
    "c_options=Options()\n",
    "c_options.add_argument(\"--blink-settings=imagesEnabled=false\")\n",
    "new_driver=webdriver.Chrome(options=c_options)\n",
    "wait=WebDriverWait(new_driver,86400)\n",
    "new_driver.maximize_window()\n",
    "lst=[]\n",
    "url_lst=[]\n",
    "count=0\n",
    "with open(\"all_files.html\",\"r\") as file:\n",
    "   links=file.readlines()\n",
    "   for each in links:\n",
    "      count+=1\n",
    "      full_url=\"https://sps.mesago.com\"+each\n",
    "      new_driver.get(full_url)\n",
    "      element_present=wait.until(EC.presence_of_element_located((By.CLASS_NAME,\"ex-contact-box__flex\")))\n",
    "      new_driver.execute_script(\"return window.stop();\")\n",
    "      root_two=BeautifulSoup(new_driver.page_source,\"html.parser\")\n",
    "      target_elem=root_two.find(\"div\",class_=\"ex-contact-box__container\")\n",
    "      if target_elem:\n",
    "         lst.append(target_elem)\n",
    "         url_lst.append(full_url)\n",
    "         print(count)\n"
   ]
  },
  {
   "cell_type": "code",
   "execution_count": 9,
   "metadata": {},
   "outputs": [
    {
     "name": "stdout",
     "output_type": "stream",
     "text": [
      "[]\n"
     ]
    }
   ],
   "source": [
    "lst_two=[]\n",
    "for t_url,each in zip(url_lst,lst):\n",
    "    p_data=[]\n",
    "    try:\n",
    "        address=each.find(\"div\",class_=\"ex-contact-box__container-address\")\n",
    "        links=each.find(\"div\",class_=\"ex-contact-box__container-links\")\n",
    "        try:\n",
    "            link=links.find(\"a\",class_=\"icon icon-news-before ex-contact-box__website-link\")[\"href\"]\n",
    "        except:\n",
    "            link=None\n",
    "        # addresses\n",
    "        try:\n",
    "            name=address.find(\"p\",class_=\"ex-contact-box__address-field-name\").text\n",
    "            street=address.find(\"p\",class_=\"ex-contact-box__address-field-street\").text\n",
    "            country=address.find(\"span\",class_=\"ex-contact-box__address-field-country\").text\n",
    "            zip_=address.find(\"span\",class_=\"ex-contact-box__address-field-zip\").text\n",
    "            city_=address.find(\"span\",class_=\"ex-contact-box__address-field-city\").text\n",
    "        except:\n",
    "            phone_=None\n",
    "            street=None\n",
    "            country=None\n",
    "            zip_=None\n",
    "            city_=None\n",
    "        mail=address.find(\"a\",class_=\"ex-contact-box__contact-btn btn btn-primary\")[\"href\"]\n",
    "        p_data.extend([name,street,country,zip_,city_,phone_,mail,t_url,link])\n",
    "        lst_two.append(p_data)\n",
    "    except:\n",
    "        continue\n",
    "print(lst_two)"
   ]
  },
  {
   "cell_type": "code",
   "execution_count": 117,
   "metadata": {},
   "outputs": [],
   "source": [
    "import csv\n",
    "\n",
    "rows=[\"Company name\",\"Street address\",\"Country\",\"Zip\",\"City\",\"Phone Number\",\"Email\",\"URL\",\"Web Address\"]\n",
    "with open(\"c_data_two.csv\",\"w\") as file:\n",
    "    write=csv.writer(file)\n",
    "    write.writerow(rows)\n",
    "    write.writerows(lst_two)"
   ]
  }
 ],
 "metadata": {
  "kernelspec": {
   "display_name": "web_s",
   "language": "python",
   "name": "python3"
  },
  "language_info": {
   "codemirror_mode": {
    "name": "ipython",
    "version": 3
   },
   "file_extension": ".py",
   "mimetype": "text/x-python",
   "name": "python",
   "nbconvert_exporter": "python",
   "pygments_lexer": "ipython3",
   "version": "3.10.6"
  },
  "orig_nbformat": 4,
  "vscode": {
   "interpreter": {
    "hash": "2e951570b5d2b86a2614f5ee845513569f710926d5fbc0d8de3ab126fcb992d6"
   }
  }
 },
 "nbformat": 4,
 "nbformat_minor": 2
}
